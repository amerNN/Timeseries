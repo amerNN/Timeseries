{
 "cells": [
  {
   "cell_type": "code",
   "execution_count": 1,
   "id": "d68cd80f",
   "metadata": {},
   "outputs": [
    {
     "name": "stderr",
     "output_type": "stream",
     "text": [
      "2023-07-14 23:58:11.342662: I tensorflow/core/platform/cpu_feature_guard.cc:193] This TensorFlow binary is optimized with oneAPI Deep Neural Network Library (oneDNN) to use the following CPU instructions in performance-critical operations:  AVX2 FMA\n",
      "To enable them in other operations, rebuild TensorFlow with the appropriate compiler flags.\n",
      "2023-07-14 23:58:15.183064: W tensorflow/compiler/xla/stream_executor/platform/default/dso_loader.cc:64] Could not load dynamic library 'libnvinfer.so.7'; dlerror: libnvinfer.so.7: cannot open shared object file: No such file or directory\n",
      "2023-07-14 23:58:15.183248: W tensorflow/compiler/xla/stream_executor/platform/default/dso_loader.cc:64] Could not load dynamic library 'libnvinfer_plugin.so.7'; dlerror: libnvinfer_plugin.so.7: cannot open shared object file: No such file or directory\n",
      "2023-07-14 23:58:15.183262: W tensorflow/compiler/tf2tensorrt/utils/py_utils.cc:38] TF-TRT Warning: Cannot dlopen some TensorRT libraries. If you would like to use Nvidia GPU with TensorRT, please make sure the missing libraries mentioned above are installed properly.\n"
     ]
    }
   ],
   "source": [
    "import numpy as np\n",
    "import breizhcrops\n",
    "import torch\n",
    "import tqdm\n",
    "import os\n",
    "import shutil\n",
    "from breizhcrops import BreizhCrops\n",
    "import sklearn\n",
    "from sklearn.preprocessing import StandardScaler\n",
    "from sklearn.metrics import classification_report, confusion_matrix\n",
    "from sklearn.model_selection import train_test_split\n",
    "from tensorflow.keras import backend as K\n",
    "from tensorflow.keras.models import Model, Sequential\n",
    "from tensorflow.keras.layers import LSTM, Layer, Dense, Dropout, Bidirectional, Conv1D, MaxPooling1D,\\\n",
    "Flatten, BatchNormalization ,Input, Dense, concatenate\n",
    "from tensorflow.keras.activations import relu, softmax\n",
    "from tensorflow.keras.utils import to_categorical\n",
    "import numpy as np\n",
    "import pandas as pd\n",
    "import matplotlib.pyplot as plt\n",
    "import seaborn as sns\n",
    "import torch.nn as nn\n",
    "import torch.nn.init as init\n",
    "from torch.autograd import Variable\n",
    "import torch.nn.functional as F"
   ]
  },
  {
   "cell_type": "code",
   "execution_count": 2,
   "id": "b26a96c7",
   "metadata": {},
   "outputs": [],
   "source": [
    "def metrics(y_true, y_pred):\n",
    "    accuracy = sklearn.metrics.accuracy_score(y_true, y_pred)\n",
    "    kappa = sklearn.metrics.cohen_kappa_score(y_true, y_pred)\n",
    "    f1_micro = sklearn.metrics.f1_score(y_true, y_pred, average=\"micro\")\n",
    "    f1_macro = sklearn.metrics.f1_score(y_true, y_pred, average=\"macro\")\n",
    "    f1_weighted = sklearn.metrics.f1_score(y_true, y_pred, average=\"weighted\")\n",
    "    recall_micro = sklearn.metrics.recall_score(y_true, y_pred, average=\"micro\")\n",
    "    recall_macro = sklearn.metrics.recall_score(y_true, y_pred, average=\"macro\")\n",
    "    recall_weighted = sklearn.metrics.recall_score(y_true, y_pred, average=\"weighted\")\n",
    "    precision_micro = sklearn.metrics.precision_score(y_true, y_pred, average=\"micro\")\n",
    "    precision_macro = sklearn.metrics.precision_score(y_true, y_pred, average=\"macro\")\n",
    "    precision_weighted = sklearn.metrics.precision_score(y_true, y_pred, average=\"weighted\")\n",
    "    return {'accuracy': accuracy, \n",
    "            'precision_micro': precision_micro, \n",
    "            'recall': recall_micro, \n",
    "            'f1_score': f1_micro,\n",
    "            'kappa': kappa}\n"
   ]
  },
  {
   "cell_type": "markdown",
   "id": "3f808ce3",
   "metadata": {},
   "source": [
    "# prepare Data"
   ]
  },
  {
   "cell_type": "code",
   "execution_count": 3,
   "id": "9135e9a6",
   "metadata": {},
   "outputs": [],
   "source": [
    "dataset_index = 1043\n",
    "all_x = list()\n",
    "all_y = list()\n",
    "def raw_transform(input_timeseries):\n",
    "    return input_timeseries[:, :-1]\n",
    "\n",
    "dataset_index = 3000\n",
    "dataset = BreizhCrops(region=\"frh01\", transform=raw_transform)\n",
    "for i in range(0, dataset_index):\n",
    "    x, y, field_id = dataset[i]\n",
    "    df = pd.DataFrame(x[:50])\n",
    "    all_x.append(df)\n",
    "    all_y.append(str(int(y)))\n",
    "\n",
    "all_x = pd.concat(all_x)\n",
    "\n",
    "# normalize the data\n",
    "sc = StandardScaler()\n",
    "all_x = sc.fit_transform(all_x)\n"
   ]
  },
  {
   "cell_type": "code",
   "execution_count": 4,
   "id": "d03e0d0a",
   "metadata": {},
   "outputs": [
    {
     "data": {
      "text/plain": [
       "(150000, 3000)"
      ]
     },
     "execution_count": 4,
     "metadata": {},
     "output_type": "execute_result"
    }
   ],
   "source": [
    "len(all_x), len(all_y)"
   ]
  },
  {
   "cell_type": "code",
   "execution_count": 5,
   "id": "61dc86c4",
   "metadata": {},
   "outputs": [
    {
     "name": "stdout",
     "output_type": "stream",
     "text": [
      "(2900, 50, 16)\n",
      "(2900, 9)\n"
     ]
    }
   ],
   "source": [
    "# convert to timeseries format\n",
    "all_xx = list()\n",
    "\n",
    "for i in range(1, 145000, 50):\n",
    "    all_xx.append(all_x[i: i+50])\n",
    "\n",
    "all_yy = all_y[: 2900]\n",
    "# change label to categorical format\n",
    "all_xx = np.array(all_xx)\n",
    "all_yy = np.array(all_yy)\n",
    "all_yy = to_categorical(all_yy)\n",
    "print(all_xx.shape)\n",
    "print(all_yy.shape)"
   ]
  },
  {
   "cell_type": "code",
   "execution_count": 6,
   "id": "9fc1b341",
   "metadata": {},
   "outputs": [
    {
     "name": "stdout",
     "output_type": "stream",
     "text": [
      "(2900, 50, 16)\n",
      "(2900, 9)\n"
     ]
    }
   ],
   "source": [
    "all_yy = all_y[: len(all_xx)]\n",
    "# change label to categorical format\n",
    "all_xx = np.array(all_xx)\n",
    "all_yy = np.array(all_yy)\n",
    "all_yy = to_categorical(all_yy)\n",
    "print(all_xx.shape)\n",
    "print(all_yy.shape)"
   ]
  },
  {
   "cell_type": "code",
   "execution_count": 7,
   "id": "1d300f14",
   "metadata": {},
   "outputs": [],
   "source": [
    "x_train, x_test, y_train, y_test = train_test_split(all_xx, all_yy, test_size=0.1)"
   ]
  },
  {
   "cell_type": "markdown",
   "id": "64c3259a",
   "metadata": {},
   "source": [
    "# temporal CNN"
   ]
  },
  {
   "cell_type": "code",
   "execution_count": 8,
   "id": "eefa9881",
   "metadata": {
    "scrolled": true
   },
   "outputs": [
    {
     "name": "stderr",
     "output_type": "stream",
     "text": [
      "2023-07-14 23:58:37.651554: I tensorflow/compiler/xla/stream_executor/cuda/cuda_gpu_executor.cc:981] successful NUMA node read from SysFS had negative value (-1), but there must be at least one NUMA node, so returning NUMA node zero\n",
      "2023-07-14 23:58:37.763451: I tensorflow/compiler/xla/stream_executor/cuda/cuda_gpu_executor.cc:981] successful NUMA node read from SysFS had negative value (-1), but there must be at least one NUMA node, so returning NUMA node zero\n",
      "2023-07-14 23:58:37.765214: I tensorflow/compiler/xla/stream_executor/cuda/cuda_gpu_executor.cc:981] successful NUMA node read from SysFS had negative value (-1), but there must be at least one NUMA node, so returning NUMA node zero\n",
      "2023-07-14 23:58:37.767301: I tensorflow/core/platform/cpu_feature_guard.cc:193] This TensorFlow binary is optimized with oneAPI Deep Neural Network Library (oneDNN) to use the following CPU instructions in performance-critical operations:  AVX2 FMA\n",
      "To enable them in other operations, rebuild TensorFlow with the appropriate compiler flags.\n",
      "2023-07-14 23:58:37.768870: I tensorflow/compiler/xla/stream_executor/cuda/cuda_gpu_executor.cc:981] successful NUMA node read from SysFS had negative value (-1), but there must be at least one NUMA node, so returning NUMA node zero\n",
      "2023-07-14 23:58:37.770280: I tensorflow/compiler/xla/stream_executor/cuda/cuda_gpu_executor.cc:981] successful NUMA node read from SysFS had negative value (-1), but there must be at least one NUMA node, so returning NUMA node zero\n",
      "2023-07-14 23:58:37.771172: I tensorflow/compiler/xla/stream_executor/cuda/cuda_gpu_executor.cc:981] successful NUMA node read from SysFS had negative value (-1), but there must be at least one NUMA node, so returning NUMA node zero\n",
      "2023-07-14 23:58:39.404550: I tensorflow/compiler/xla/stream_executor/cuda/cuda_gpu_executor.cc:981] successful NUMA node read from SysFS had negative value (-1), but there must be at least one NUMA node, so returning NUMA node zero\n",
      "2023-07-14 23:58:39.407105: I tensorflow/compiler/xla/stream_executor/cuda/cuda_gpu_executor.cc:981] successful NUMA node read from SysFS had negative value (-1), but there must be at least one NUMA node, so returning NUMA node zero\n",
      "2023-07-14 23:58:39.408480: I tensorflow/compiler/xla/stream_executor/cuda/cuda_gpu_executor.cc:981] successful NUMA node read from SysFS had negative value (-1), but there must be at least one NUMA node, so returning NUMA node zero\n",
      "2023-07-14 23:58:39.410099: I tensorflow/core/common_runtime/gpu/gpu_device.cc:1613] Created device /job:localhost/replica:0/task:0/device:GPU:0 with 3380 MB memory:  -> device: 0, name: GeForce 930MX, pci bus id: 0000:01:00.0, compute capability: 5.0\n"
     ]
    }
   ],
   "source": [
    "a_ip = Input(shape=(x_train.shape[1], x_train.shape[2]), name=\"Inputa\")\n",
    "al_1 = Conv1D(filters=64, kernel_size=2, name =\"layer1\")(a_ip)\n",
    "al_2 = BatchNormalization(name =\"layer2\")(al_1)\n",
    "al_3 = relu(al_2)\n",
    "al_4 = Dropout(0.2, name =\"layer4\")(al_3)\n",
    "\n",
    "al_5 = Conv1D(filters=64, kernel_size=2, name =\"layer5\")(al_4)\n",
    "al_6 = BatchNormalization(name =\"layer6\")(al_5)\n",
    "al_7 = relu(al_6)\n",
    "al_8 = Dropout(0.2, name =\"layer8\")(al_7)\n",
    "\n",
    "al_9 = Conv1D(filters=64, kernel_size=2, name =\"layer9\")(al_8)\n",
    "al_10 = BatchNormalization(name =\"layer10\")(al_9)\n",
    "al_11 = relu(al_10)\n",
    "al_12 = Dropout(0.2, name =\"layer12\")(al_11)\n",
    "\n",
    "al_13 = Flatten()(al_12)\n",
    "al_14 = Dense(100, name =\"layer14\")(al_13)\n",
    "al_15 = BatchNormalization(name =\"layer15\")(al_14)\n",
    "al_16 = relu(al_15)\n",
    "al_17 = Dropout(0.2, name =\"layer17\")(al_16)\n",
    "output_layer = Dense(9, activation = \"softmax\", name = \"outputlayer\")(al_17)\n",
    "\n",
    "temp_cnn = Model(inputs=[a_ip], outputs=[output_layer], name = \"model\")\n"
   ]
  },
  {
   "cell_type": "code",
   "execution_count": 9,
   "id": "497c73bb",
   "metadata": {},
   "outputs": [
    {
     "name": "stdout",
     "output_type": "stream",
     "text": [
      "Model: \"model\"\n",
      "_________________________________________________________________\n",
      " Layer (type)                Output Shape              Param #   \n",
      "=================================================================\n",
      " Inputa (InputLayer)         [(None, 50, 16)]          0         \n",
      "                                                                 \n",
      " layer1 (Conv1D)             (None, 49, 64)            2112      \n",
      "                                                                 \n",
      " layer2 (BatchNormalization)  (None, 49, 64)           256       \n",
      "                                                                 \n",
      " tf.nn.relu (TFOpLambda)     (None, 49, 64)            0         \n",
      "                                                                 \n",
      " layer4 (Dropout)            (None, 49, 64)            0         \n",
      "                                                                 \n",
      " layer5 (Conv1D)             (None, 48, 64)            8256      \n",
      "                                                                 \n",
      " layer6 (BatchNormalization)  (None, 48, 64)           256       \n",
      "                                                                 \n",
      " tf.nn.relu_1 (TFOpLambda)   (None, 48, 64)            0         \n",
      "                                                                 \n",
      " layer8 (Dropout)            (None, 48, 64)            0         \n",
      "                                                                 \n",
      " layer9 (Conv1D)             (None, 47, 64)            8256      \n",
      "                                                                 \n",
      " layer10 (BatchNormalization  (None, 47, 64)           256       \n",
      " )                                                               \n",
      "                                                                 \n",
      " tf.nn.relu_2 (TFOpLambda)   (None, 47, 64)            0         \n",
      "                                                                 \n",
      " layer12 (Dropout)           (None, 47, 64)            0         \n",
      "                                                                 \n",
      " flatten (Flatten)           (None, 3008)              0         \n",
      "                                                                 \n",
      " layer14 (Dense)             (None, 100)               300900    \n",
      "                                                                 \n",
      " layer15 (BatchNormalization  (None, 100)              400       \n",
      " )                                                               \n",
      "                                                                 \n",
      " tf.nn.relu_3 (TFOpLambda)   (None, 100)               0         \n",
      "                                                                 \n",
      " layer17 (Dropout)           (None, 100)               0         \n",
      "                                                                 \n",
      " outputlayer (Dense)         (None, 9)                 909       \n",
      "                                                                 \n",
      "=================================================================\n",
      "Total params: 321,601\n",
      "Trainable params: 321,017\n",
      "Non-trainable params: 584\n",
      "_________________________________________________________________\n"
     ]
    }
   ],
   "source": [
    "temp_cnn.summary()"
   ]
  },
  {
   "cell_type": "code",
   "execution_count": 10,
   "id": "84c94467",
   "metadata": {
    "scrolled": true
   },
   "outputs": [
    {
     "name": "stdout",
     "output_type": "stream",
     "text": [
      "Epoch 1/50\n"
     ]
    },
    {
     "name": "stderr",
     "output_type": "stream",
     "text": [
      "2023-07-14 23:58:49.085051: I tensorflow/compiler/xla/stream_executor/cuda/cuda_dnn.cc:428] Loaded cuDNN version 8500\n",
      "2023-07-14 23:58:51.118777: I tensorflow/tsl/platform/default/subprocess.cc:304] Start cannot spawn child process: No such file or directory\n",
      "2023-07-14 23:58:51.551484: I tensorflow/compiler/xla/service/service.cc:173] XLA service 0x21813970 initialized for platform CUDA (this does not guarantee that XLA will be used). Devices:\n",
      "2023-07-14 23:58:51.551533: I tensorflow/compiler/xla/service/service.cc:181]   StreamExecutor device (0): GeForce 930MX, Compute Capability 5.0\n",
      "2023-07-14 23:58:51.621825: I tensorflow/compiler/mlir/tensorflow/utils/dump_mlir_util.cc:268] disabling MLIR crash reproducer, set env var `MLIR_CRASH_REPRODUCER_DIRECTORY` to enable.\n",
      "2023-07-14 23:58:52.403088: I tensorflow/tsl/platform/default/subprocess.cc:304] Start cannot spawn child process: No such file or directory\n",
      "2023-07-14 23:58:52.529105: I tensorflow/compiler/jit/xla_compilation_cache.cc:477] Compiled cluster using XLA!  This line is logged at most once for the lifetime of the process.\n"
     ]
    },
    {
     "name": "stdout",
     "output_type": "stream",
     "text": [
      "41/41 [==============================] - 13s 41ms/step - loss: 1.7284 - accuracy: 0.3920 - mse: 0.0821 - val_loss: 1.5701 - val_accuracy: 0.4517 - val_mse: 0.0750\n",
      "Epoch 2/50\n",
      "41/41 [==============================] - 1s 16ms/step - loss: 0.9293 - accuracy: 0.6586 - mse: 0.0511 - val_loss: 1.0295 - val_accuracy: 0.6552 - val_mse: 0.0528\n",
      "Epoch 3/50\n",
      "41/41 [==============================] - 1s 16ms/step - loss: 0.7432 - accuracy: 0.7218 - mse: 0.0428 - val_loss: 0.8009 - val_accuracy: 0.7276 - val_mse: 0.0433\n",
      "Epoch 4/50\n",
      "41/41 [==============================] - 1s 16ms/step - loss: 0.6433 - accuracy: 0.7448 - mse: 0.0384 - val_loss: 0.7041 - val_accuracy: 0.7621 - val_mse: 0.0391\n",
      "Epoch 5/50\n",
      "41/41 [==============================] - 1s 16ms/step - loss: 0.6099 - accuracy: 0.7632 - mse: 0.0370 - val_loss: 0.6037 - val_accuracy: 0.7897 - val_mse: 0.0348\n",
      "Epoch 6/50\n",
      "41/41 [==============================] - 1s 16ms/step - loss: 0.5576 - accuracy: 0.7770 - mse: 0.0342 - val_loss: 0.5540 - val_accuracy: 0.8000 - val_mse: 0.0329\n",
      "Epoch 7/50\n",
      "41/41 [==============================] - 1s 16ms/step - loss: 0.5059 - accuracy: 0.7992 - mse: 0.0309 - val_loss: 0.5156 - val_accuracy: 0.7966 - val_mse: 0.0312\n",
      "Epoch 8/50\n",
      "41/41 [==============================] - 1s 16ms/step - loss: 0.4647 - accuracy: 0.8080 - mse: 0.0291 - val_loss: 0.5168 - val_accuracy: 0.7862 - val_mse: 0.0321\n",
      "Epoch 9/50\n",
      "41/41 [==============================] - 1s 15ms/step - loss: 0.4584 - accuracy: 0.8192 - mse: 0.0286 - val_loss: 0.4851 - val_accuracy: 0.7862 - val_mse: 0.0303\n",
      "Epoch 10/50\n",
      "41/41 [==============================] - 1s 16ms/step - loss: 0.4425 - accuracy: 0.8333 - mse: 0.0271 - val_loss: 0.4711 - val_accuracy: 0.8103 - val_mse: 0.0285\n",
      "Epoch 11/50\n",
      "41/41 [==============================] - 1s 16ms/step - loss: 0.4289 - accuracy: 0.8379 - mse: 0.0268 - val_loss: 0.4701 - val_accuracy: 0.8172 - val_mse: 0.0289\n",
      "Epoch 12/50\n",
      "41/41 [==============================] - 1s 15ms/step - loss: 0.4005 - accuracy: 0.8441 - mse: 0.0252 - val_loss: 0.4638 - val_accuracy: 0.8241 - val_mse: 0.0280\n",
      "Epoch 13/50\n",
      "41/41 [==============================] - 1s 16ms/step - loss: 0.3802 - accuracy: 0.8513 - mse: 0.0240 - val_loss: 0.4788 - val_accuracy: 0.8034 - val_mse: 0.0299\n",
      "Epoch 14/50\n",
      "41/41 [==============================] - 1s 16ms/step - loss: 0.3721 - accuracy: 0.8556 - mse: 0.0233 - val_loss: 0.5075 - val_accuracy: 0.8000 - val_mse: 0.0311\n",
      "Epoch 15/50\n",
      "41/41 [==============================] - 1s 15ms/step - loss: 0.3653 - accuracy: 0.8579 - mse: 0.0232 - val_loss: 0.4657 - val_accuracy: 0.8000 - val_mse: 0.0309\n",
      "Epoch 16/50\n",
      "41/41 [==============================] - 1s 16ms/step - loss: 0.3382 - accuracy: 0.8644 - mse: 0.0218 - val_loss: 0.4766 - val_accuracy: 0.7966 - val_mse: 0.0312\n",
      "Epoch 17/50\n",
      "41/41 [==============================] - 1s 16ms/step - loss: 0.3287 - accuracy: 0.8674 - mse: 0.0208 - val_loss: 0.4799 - val_accuracy: 0.8069 - val_mse: 0.0291\n",
      "Epoch 18/50\n",
      "41/41 [==============================] - 1s 16ms/step - loss: 0.3209 - accuracy: 0.8812 - mse: 0.0204 - val_loss: 0.4518 - val_accuracy: 0.8034 - val_mse: 0.0284\n",
      "Epoch 19/50\n",
      "41/41 [==============================] - 1s 16ms/step - loss: 0.3130 - accuracy: 0.8736 - mse: 0.0203 - val_loss: 0.4791 - val_accuracy: 0.8034 - val_mse: 0.0309\n",
      "Epoch 20/50\n",
      "41/41 [==============================] - 1s 16ms/step - loss: 0.2971 - accuracy: 0.8782 - mse: 0.0190 - val_loss: 0.4669 - val_accuracy: 0.8069 - val_mse: 0.0291\n",
      "Epoch 21/50\n",
      "41/41 [==============================] - 1s 16ms/step - loss: 0.2882 - accuracy: 0.8893 - mse: 0.0182 - val_loss: 0.4511 - val_accuracy: 0.8172 - val_mse: 0.0287\n",
      "Epoch 22/50\n",
      "41/41 [==============================] - 1s 16ms/step - loss: 0.2934 - accuracy: 0.8862 - mse: 0.0185 - val_loss: 0.4886 - val_accuracy: 0.8172 - val_mse: 0.0298\n",
      "Epoch 23/50\n",
      "41/41 [==============================] - 1s 16ms/step - loss: 0.2741 - accuracy: 0.8912 - mse: 0.0175 - val_loss: 0.5499 - val_accuracy: 0.7828 - val_mse: 0.0344\n",
      "Epoch 24/50\n",
      "41/41 [==============================] - 1s 16ms/step - loss: 0.2671 - accuracy: 0.8893 - mse: 0.0172 - val_loss: 0.4648 - val_accuracy: 0.8000 - val_mse: 0.0291\n",
      "Epoch 25/50\n",
      "41/41 [==============================] - 1s 16ms/step - loss: 0.2748 - accuracy: 0.8862 - mse: 0.0178 - val_loss: 0.4846 - val_accuracy: 0.7966 - val_mse: 0.0306\n",
      "Epoch 26/50\n",
      "41/41 [==============================] - 1s 16ms/step - loss: 0.2577 - accuracy: 0.9019 - mse: 0.0164 - val_loss: 0.4722 - val_accuracy: 0.8069 - val_mse: 0.0304\n",
      "Epoch 27/50\n",
      "41/41 [==============================] - 1s 19ms/step - loss: 0.2400 - accuracy: 0.9034 - mse: 0.0152 - val_loss: 0.4773 - val_accuracy: 0.8000 - val_mse: 0.0307\n",
      "Epoch 28/50\n",
      "41/41 [==============================] - 1s 16ms/step - loss: 0.2402 - accuracy: 0.9088 - mse: 0.0151 - val_loss: 0.4994 - val_accuracy: 0.7931 - val_mse: 0.0319\n",
      "Epoch 29/50\n",
      "41/41 [==============================] - 1s 16ms/step - loss: 0.2434 - accuracy: 0.9069 - mse: 0.0156 - val_loss: 0.5241 - val_accuracy: 0.7862 - val_mse: 0.0328\n",
      "Epoch 30/50\n",
      "41/41 [==============================] - 1s 16ms/step - loss: 0.2242 - accuracy: 0.9153 - mse: 0.0143 - val_loss: 0.5224 - val_accuracy: 0.7931 - val_mse: 0.0323\n",
      "Epoch 31/50\n",
      "41/41 [==============================] - 1s 16ms/step - loss: 0.2125 - accuracy: 0.9188 - mse: 0.0134 - val_loss: 0.5335 - val_accuracy: 0.7931 - val_mse: 0.0327\n",
      "Epoch 32/50\n",
      "41/41 [==============================] - 1s 16ms/step - loss: 0.2195 - accuracy: 0.9165 - mse: 0.0140 - val_loss: 0.4864 - val_accuracy: 0.8207 - val_mse: 0.0295\n",
      "Epoch 33/50\n",
      "41/41 [==============================] - 1s 16ms/step - loss: 0.2078 - accuracy: 0.9211 - mse: 0.0132 - val_loss: 0.5390 - val_accuracy: 0.8000 - val_mse: 0.0322\n",
      "Epoch 34/50\n",
      "41/41 [==============================] - 1s 16ms/step - loss: 0.1981 - accuracy: 0.9211 - mse: 0.0126 - val_loss: 0.5247 - val_accuracy: 0.8034 - val_mse: 0.0318\n",
      "Epoch 35/50\n",
      "41/41 [==============================] - 1s 16ms/step - loss: 0.1934 - accuracy: 0.9276 - mse: 0.0122 - val_loss: 0.5299 - val_accuracy: 0.8000 - val_mse: 0.0320\n",
      "Epoch 36/50\n",
      "41/41 [==============================] - 1s 16ms/step - loss: 0.1932 - accuracy: 0.9253 - mse: 0.0121 - val_loss: 0.5334 - val_accuracy: 0.8034 - val_mse: 0.0321\n",
      "Epoch 37/50\n",
      "41/41 [==============================] - 1s 16ms/step - loss: 0.1980 - accuracy: 0.9215 - mse: 0.0127 - val_loss: 0.5509 - val_accuracy: 0.7828 - val_mse: 0.0329\n",
      "Epoch 38/50\n",
      "41/41 [==============================] - 1s 16ms/step - loss: 0.1929 - accuracy: 0.9238 - mse: 0.0124 - val_loss: 0.5704 - val_accuracy: 0.7828 - val_mse: 0.0341\n",
      "Epoch 39/50\n",
      "41/41 [==============================] - 1s 16ms/step - loss: 0.1804 - accuracy: 0.9287 - mse: 0.0115 - val_loss: 0.5453 - val_accuracy: 0.7966 - val_mse: 0.0327\n",
      "Epoch 40/50\n",
      "41/41 [==============================] - 1s 16ms/step - loss: 0.1942 - accuracy: 0.9245 - mse: 0.0124 - val_loss: 0.5183 - val_accuracy: 0.8069 - val_mse: 0.0322\n",
      "Epoch 41/50\n",
      "41/41 [==============================] - 1s 16ms/step - loss: 0.1748 - accuracy: 0.9352 - mse: 0.0112 - val_loss: 0.5422 - val_accuracy: 0.8034 - val_mse: 0.0326\n",
      "Epoch 42/50\n",
      "41/41 [==============================] - 1s 16ms/step - loss: 0.1690 - accuracy: 0.9326 - mse: 0.0107 - val_loss: 0.5582 - val_accuracy: 0.8034 - val_mse: 0.0335\n",
      "Epoch 43/50\n",
      "41/41 [==============================] - 1s 16ms/step - loss: 0.1610 - accuracy: 0.9391 - mse: 0.0103 - val_loss: 0.5637 - val_accuracy: 0.7897 - val_mse: 0.0342\n",
      "Epoch 44/50\n",
      "41/41 [==============================] - 1s 16ms/step - loss: 0.1702 - accuracy: 0.9379 - mse: 0.0106 - val_loss: 0.5726 - val_accuracy: 0.7759 - val_mse: 0.0349\n",
      "Epoch 45/50\n",
      "41/41 [==============================] - 1s 16ms/step - loss: 0.1622 - accuracy: 0.9341 - mse: 0.0103 - val_loss: 0.5951 - val_accuracy: 0.7690 - val_mse: 0.0364\n",
      "Epoch 46/50\n",
      "41/41 [==============================] - 1s 16ms/step - loss: 0.1577 - accuracy: 0.9421 - mse: 0.0099 - val_loss: 0.5535 - val_accuracy: 0.8138 - val_mse: 0.0325\n",
      "Epoch 47/50\n",
      "41/41 [==============================] - 1s 16ms/step - loss: 0.1543 - accuracy: 0.9429 - mse: 0.0095 - val_loss: 0.5257 - val_accuracy: 0.8069 - val_mse: 0.0324\n",
      "Epoch 48/50\n",
      "41/41 [==============================] - 1s 16ms/step - loss: 0.1578 - accuracy: 0.9414 - mse: 0.0099 - val_loss: 0.5190 - val_accuracy: 0.8034 - val_mse: 0.0320\n",
      "Epoch 49/50\n",
      "41/41 [==============================] - 1s 16ms/step - loss: 0.1437 - accuracy: 0.9521 - mse: 0.0087 - val_loss: 0.5523 - val_accuracy: 0.7828 - val_mse: 0.0336\n",
      "Epoch 50/50\n",
      "41/41 [==============================] - 1s 16ms/step - loss: 0.1451 - accuracy: 0.9414 - mse: 0.0091 - val_loss: 0.5598 - val_accuracy: 0.8000 - val_mse: 0.0335\n"
     ]
    },
    {
     "data": {
      "text/plain": [
       "<keras.callbacks.History at 0x7fb74bcdd670>"
      ]
     },
     "execution_count": 10,
     "metadata": {},
     "output_type": "execute_result"
    }
   ],
   "source": [
    "temp_cnn.compile(loss='categorical_crossentropy',\n",
    "              optimizer='adam',\n",
    "              metrics=['accuracy', 'mse'])\n",
    "temp_cnn.fit(x_train, y_train, validation_data=(x_test, y_test), batch_size=64, epochs=50)"
   ]
  },
  {
   "cell_type": "code",
   "execution_count": 11,
   "id": "f0bb6995",
   "metadata": {
    "scrolled": true
   },
   "outputs": [
    {
     "name": "stdout",
     "output_type": "stream",
     "text": [
      "10/10 [==============================] - 1s 17ms/step\n",
      "              precision    recall  f1-score   support\n",
      "\n",
      "           0       0.89      0.81      0.85        21\n",
      "           1       0.87      0.98      0.92        41\n",
      "           2       1.00      0.60      0.75         5\n",
      "           3       0.93      0.94      0.94        72\n",
      "           7       0.68      0.57      0.62        60\n",
      "           8       0.71      0.77      0.74        91\n",
      "\n",
      "    accuracy                           0.80       290\n",
      "   macro avg       0.85      0.78      0.80       290\n",
      "weighted avg       0.80      0.80      0.80       290\n",
      "\n",
      "{'accuracy': 0.8, 'precision_micro': 0.8, 'recall': 0.8, 'f1_score': 0.8000000000000002, 'kappa': 0.7393662353761524}\n"
     ]
    }
   ],
   "source": [
    "y_pred = temp_cnn.predict(x_test)\n",
    "y_pred = np.array([np.argmax(i) for i in y_pred])\n",
    "y_test = np.array([np.argmax(i) for i in y_test])\n",
    "print(classification_report(y_test, y_pred))\n",
    "print(metrics(y_test, y_pred))"
   ]
  },
  {
   "cell_type": "code",
   "execution_count": 15,
   "id": "0f32358f",
   "metadata": {},
   "outputs": [
    {
     "data": {
      "image/png": "[encoded data removed]",
      "text/plain": [
       "<Figure size 640x480 with 2 Axes>"
      ]
     },
     "metadata": {},
     "output_type": "display_data"
    }
   ],
   "source": [
    "cm = confusion_matrix(y_test,y_pred)\n",
    "np.seterr(invalid='ignore')\n",
    "dconf_mat_norm = np.around(cm.astype('float') / cm.sum(axis=1)[:, np.newaxis], decimals=2)\n",
    " #Plot the confusion matrix.\n",
    "sns.heatmap(dconf_mat_norm,\n",
    "            annot=True,\n",
    "            fmt='g')\n",
    "plt.ylabel('Prediction',fontsize=13)\n",
    "plt.xlabel('Actual',fontsize=13)\n",
    "plt.title('Confusion Matrix',fontsize=17)\n",
    "plt.savefig('temporal.png')\n",
    "plt.show()\n"
   ]
  },
  {
   "cell_type": "code",
   "execution_count": null,
   "id": "07530cfa",
   "metadata": {},
   "outputs": [],
   "source": []
  },
  {
   "cell_type": "markdown",
   "id": "c788bba2",
   "metadata": {},
   "source": [
    "# Star RNN"
   ]
  },
  {
   "cell_type": "code",
   "execution_count": 30,
   "id": "b10c330b",
   "metadata": {},
   "outputs": [],
   "source": [
    "x_train, x_test, y_train, y_test = train_test_split(all_xx, all_yy, test_size=0.1)"
   ]
  },
  {
   "cell_type": "code",
   "execution_count": 31,
   "id": "514aca6e",
   "metadata": {},
   "outputs": [],
   "source": [
    "class StarRNN(torch.nn.Module):\n",
    "    def __init__(self, input_dim=13, num_classes=9, hidden_dims=128, num_layers=3, dropout=0.5, bidirectional=False,\n",
    "                 use_batchnorm=False, use_layernorm=True, device=torch.device(\"cpu\")):\n",
    "\n",
    "        super(StarRNN, self).__init__()\n",
    "        self.modelname = f\"StarRNN_input-dim={input_dim}_num-classes={num_classes}_\" \\\n",
    "                         f\"hidden-dims={hidden_dims}_num-layers={num_layers}_dropout={dropout}\"\n",
    "        \n",
    "        self.nclasses=num_classes\n",
    "        self.use_batchnorm = use_batchnorm\n",
    "        self.use_layernorm = use_layernorm\n",
    "\n",
    "        self.d_model = num_layers*hidden_dims\n",
    "        \n",
    "        if use_layernorm:\n",
    "            self.inlayernorm = nn.LayerNorm(input_dim)\n",
    "            self.clayernorm = nn.LayerNorm((hidden_dims + hidden_dims * bidirectional) )\n",
    "\n",
    "        self.block = torch.nn.Sequential(\n",
    "            StarLayer(input_dim=input_dim, hidden_dim=hidden_dims, droput_factor=dropout, device=device),\n",
    "            *[StarLayer(input_dim=hidden_dims, hidden_dim=hidden_dims, droput_factor=dropout, device=device)] * (num_layers-1)\n",
    "        )\n",
    "\n",
    "        if bidirectional:\n",
    "            hidden_dims = hidden_dims * 2\n",
    "\n",
    "        self.linear_class = nn.Linear(hidden_dims, num_classes, bias=True)\n",
    "\n",
    "        if use_batchnorm:\n",
    "            if bidirectional:\n",
    "                self.bn = nn.BatchNorm1d(hidden_dims*2)\n",
    "            else:\n",
    "                self.bn = nn.BatchNorm1d(hidden_dims)\n",
    "\n",
    "        self.to(device)\n",
    "\n",
    "    def _logits(self, x):\n",
    "        #x = x.transpose(1,2)\n",
    "\n",
    "        if self.use_layernorm:\n",
    "            x = self.inlayernorm(x)\n",
    "\n",
    "        outputs = self.block(x)\n",
    "        \n",
    "        if self.use_batchnorm:\n",
    "            outputs = outputs[:,-1:,:]\n",
    "            b,t,d = outputs.shape\n",
    "            o_ = outputs.view(b, -1, d).permute(0,2,1)\n",
    "            outputs = self.bn(o_).permute(0, 2, 1).view(b,t,d)\n",
    "\n",
    "        h=outputs[:,-1,:] \n",
    "        \n",
    "        if self.use_layernorm:\n",
    "            h = self.clayernorm(h)\n",
    "\n",
    "        logits = self.linear_class.forward(h)\n",
    "\n",
    "        return logits\n",
    "\n",
    "    def forward(self, x):\n",
    "        logits = self._logits(x)\n",
    "\n",
    "        logprobabilities = F.log_softmax(logits, dim=-1)\n",
    "        # stack the lists to new tensor (b,d,t,h,w)\n",
    "        return logprobabilities\n",
    "\n",
    "    def save(self, path=\"model.pth\", **kwargs):\n",
    "        print(\"\\nsaving model to \"+path)\n",
    "        model_state = self.state_dict()\n",
    "        os.makedirs(os.path.dirname(path), exist_ok=True)\n",
    "        torch.save(dict(model_state=model_state,**kwargs),path)\n",
    "\n",
    "    def load(self, path):\n",
    "        print(\"loading model from \"+path)\n",
    "        snapshot = torch.load(path, map_location=\"cpu\")\n",
    "        model_state = snapshot.pop('model_state', snapshot)\n",
    "        self.load_state_dict(model_state)\n",
    "        return snapshot\n",
    "\n",
    "\n",
    "class StarCell(nn.Module):\n",
    "\n",
    "    def __init__(self, input_size, hidden_size, bias=True):\n",
    "        super(StarCell, self).__init__()\n",
    "        self.input_size = input_size\n",
    "        self.hidden_size = hidden_size\n",
    "        self.bias = bias\n",
    "\n",
    "        self.x_K = nn.Linear(input_size, hidden_size, bias=bias)\n",
    "        self.x_z = nn.Linear(input_size, hidden_size, bias=bias)\n",
    "        self.h_K = nn.Linear(hidden_size, hidden_size, bias=bias)\n",
    "\n",
    "        # self.reset_parameters()\n",
    "        init.orthogonal_(self.x_K.weight)\n",
    "        init.orthogonal_(self.x_z.weight)\n",
    "        init.orthogonal_(self.h_K.weight)\n",
    "\n",
    "        #        bias_f= np.log(np.random.uniform(1,45,hidden_size))\n",
    "        #        bias_f = torch.Tensor(bias_f)\n",
    "        #        self.bias_K = Variable(bias_f.cuda(), requires_grad=True)\n",
    "\n",
    "        self.x_K.bias.data.fill_(1.)\n",
    "        self.x_z.bias.data.fill_(0)\n",
    "\n",
    "    def reset_parameters(self):\n",
    "        std = 1.0 / math.sqrt(self.hidden_size)\n",
    "        for w in self.parameters():\n",
    "            w.data.uniform_(-std, std)\n",
    "\n",
    "    def forward(self, x, hidden):\n",
    "        x = x.view(-1, x.size(1))\n",
    "\n",
    "        gate_x_K = self.x_K(x)\n",
    "        gate_x_z = self.x_z(x)\n",
    "        gate_h_K = self.h_K(hidden)\n",
    "\n",
    "        gate_x_K = gate_x_K.squeeze()\n",
    "        gate_x_z = gate_x_z.squeeze()\n",
    "        gate_h_K = gate_h_K.squeeze()\n",
    "\n",
    "        # K_gain = torch.sigmoid(gate_x_K + gate_h_K + self.bias_K )\n",
    "        K_gain = torch.sigmoid(gate_x_K + gate_h_K)\n",
    "        z = torch.tanh(gate_x_z)\n",
    "\n",
    "        h_new = K_gain * hidden + (1 - K_gain) * z\n",
    "        # h_new = hidden + K_gain * ( z - hidden)\n",
    "        h_new = torch.tanh(h_new)\n",
    "\n",
    "        return h_new\n",
    "\n",
    "\n",
    "class StarLayer(nn.Module):\n",
    "    def __init__(self, input_dim, hidden_dim, bias=True, droput_factor=0.2, batch_norm=True, layer_norm=False, device=torch.device(\"cpu\")):\n",
    "        super(StarLayer, self).__init__()\n",
    "        # Hidden dimensions\n",
    "        self.device = device\n",
    "        self.hidden_dim = hidden_dim\n",
    "        self.cell = StarCell(input_dim, hidden_dim, bias)\n",
    "        self.droput_factor = droput_factor\n",
    "        self.batch_norm = batch_norm\n",
    "        self.layer_norm = layer_norm\n",
    "\n",
    "        if self.droput_factor != 0:\n",
    "            self.naive_dropout = nn.Dropout(p=droput_factor)\n",
    "\n",
    "        if batch_norm:\n",
    "            # print('batch norm')\n",
    "            self.bn_layer = nn.BatchNorm1d(hidden_dim)\n",
    "        if layer_norm:\n",
    "            self.layer_norm_layer = nn.LayerNorm(hidden_dim)\n",
    "\n",
    "    def forward(self, x):\n",
    "\n",
    "        # Initialize hidden state with zeros\n",
    "        h0 = Variable(torch.zeros(x.size(0), self.hidden_dim)).to(self.device)\n",
    "        outs = Variable(torch.zeros(x.size(0), x.shape[1], self.hidden_dim)).to(self.device)\n",
    "\n",
    "        hn = h0\n",
    "\n",
    "        for seq in range(x.size(1)):\n",
    "            hn = self.cell(x[:, seq], hn)\n",
    "\n",
    "            if self.droput_factor != 0:\n",
    "                outs[:, seq, :] = self.naive_dropout(hn)\n",
    "            else:\n",
    "                outs[:, seq, :] = hn\n",
    "\n",
    "        # batch normalization:\n",
    "        if self.batch_norm:\n",
    "            outs = self.bn_layer(outs.permute(0, 2, 1)).permute(0, 2, 1)\n",
    "\n",
    "            # layer normalization:\n",
    "        if self.layer_norm:\n",
    "            outs = self.layer_norm_layer(outs)\n",
    "\n",
    "        return outs"
   ]
  },
  {
   "cell_type": "code",
   "execution_count": 47,
   "id": "8da36051",
   "metadata": {},
   "outputs": [
    {
     "name": "stderr",
     "output_type": "stream",
     "text": [
      "100%|███████████████████████████████████████████| 50/50 [00:05<00:00,  8.87it/s]\n",
      "100%|███████████████████████████████████████████| 50/50 [00:05<00:00,  8.82it/s]\n",
      "100%|███████████████████████████████████████████| 50/50 [00:06<00:00,  7.77it/s]\n",
      "100%|███████████████████████████████████████████| 50/50 [00:06<00:00,  7.71it/s]\n",
      "100%|███████████████████████████████████████████| 50/50 [00:06<00:00,  8.30it/s]\n",
      "100%|███████████████████████████████████████████| 50/50 [00:06<00:00,  8.27it/s]\n",
      "100%|███████████████████████████████████████████| 50/50 [00:06<00:00,  8.06it/s]\n",
      "100%|███████████████████████████████████████████| 50/50 [00:06<00:00,  7.58it/s]\n",
      "100%|███████████████████████████████████████████| 50/50 [00:06<00:00,  7.72it/s]\n",
      "100%|███████████████████████████████████████████| 50/50 [00:06<00:00,  7.65it/s]\n",
      "100%|███████████████████████████████████████████| 50/50 [00:06<00:00,  8.24it/s]\n",
      "100%|███████████████████████████████████████████| 50/50 [00:06<00:00,  7.83it/s]\n",
      "100%|███████████████████████████████████████████| 50/50 [00:06<00:00,  8.24it/s]\n",
      "100%|███████████████████████████████████████████| 50/50 [00:06<00:00,  8.30it/s]\n",
      "100%|███████████████████████████████████████████| 50/50 [00:06<00:00,  8.28it/s]\n",
      "100%|███████████████████████████████████████████| 50/50 [00:06<00:00,  8.17it/s]\n",
      "100%|███████████████████████████████████████████| 50/50 [00:06<00:00,  7.97it/s]\n",
      "100%|███████████████████████████████████████████| 50/50 [00:06<00:00,  8.16it/s]\n",
      "100%|███████████████████████████████████████████| 50/50 [00:06<00:00,  8.27it/s]\n",
      "100%|███████████████████████████████████████████| 50/50 [00:06<00:00,  8.08it/s]\n"
     ]
    }
   ],
   "source": [
    "model = StarRNN()\n",
    "model.train()\n",
    "dataset = BreizhCrops(\"belle-ile\")\n",
    "dataloader = torch.utils.data.DataLoader(dataset, batch_size=16)\n",
    "optimizer = torch.optim.Adam(model.parameters(), lr=0.0002)\n",
    "criterion = torch.nn.CrossEntropyLoss()\n",
    "for epoch in range(20):\n",
    "    with tqdm.tqdm(list(enumerate(dataloader))[:50], total=(50)) as pbar:\n",
    "        for idx, batch in pbar:\n",
    "            optimizer.zero_grad()    \n",
    "            X,y,field_ids = batch\n",
    "            y_pred = model(X)\n",
    "            loss = criterion(y_pred, y)\n",
    "            loss.backward()\n",
    "            optimizer.step()"
   ]
  },
  {
   "cell_type": "markdown",
   "id": "dfd671f9",
   "metadata": {},
   "source": [
    "# vanilla LSTM"
   ]
  },
  {
   "cell_type": "code",
   "execution_count": 55,
   "id": "80bf9997",
   "metadata": {},
   "outputs": [],
   "source": [
    "x_train, x_test, y_train, y_test = train_test_split(all_xx, all_yy, test_size=0.1)"
   ]
  },
  {
   "cell_type": "code",
   "execution_count": 56,
   "id": "d447cfe4",
   "metadata": {},
   "outputs": [
    {
     "name": "stdout",
     "output_type": "stream",
     "text": [
      "Model: \"mergedmodel\"\n",
      "_________________________________________________________________\n",
      " Layer (type)                Output Shape              Param #   \n",
      "=================================================================\n",
      " Input (InputLayer)          [(None, 50, 16)]          0         \n",
      "                                                                 \n",
      " layer1 (LSTM)               (None, 50, 120)           65760     \n",
      "                                                                 \n",
      " layer2 (Dropout)            (None, 50, 120)           0         \n",
      "                                                                 \n",
      " layer3 (LSTM)               (None, 50, 64)            47360     \n",
      "                                                                 \n",
      " layer4 (Dropout)            (None, 50, 64)            0         \n",
      "                                                                 \n",
      " layer5 (LSTM)               (None, 32)                12416     \n",
      "                                                                 \n",
      " outputlayer (Dense)         (None, 9)                 297       \n",
      "                                                                 \n",
      "=================================================================\n",
      "Total params: 125,833\n",
      "Trainable params: 125,833\n",
      "Non-trainable params: 0\n",
      "_________________________________________________________________\n"
     ]
    }
   ],
   "source": [
    "b_ip = Input(shape=(x_train.shape[1], x_train.shape[2]), name=\"Input\")\n",
    "bl_1 = LSTM(120, return_sequences=True, name =\"layer1\")(b_ip)\n",
    "bl_2 = Dropout(0.2, name =\"layer2\")(bl_1)\n",
    "bl_3 = LSTM(64, return_sequences=True, name =\"layer3\")(bl_2)\n",
    "bl_4 = Dropout(0.2, name =\"layer4\")(bl_3)\n",
    "bl_5 = LSTM(32, name =\"layer5\")(bl_4)\n",
    "output_layer = Dense(9, activation = \"softmax\", name = \"outputlayer\")(bl_5)\n",
    "\n",
    "lstm_model = Model(inputs=[b_ip], outputs=[output_layer], name = \"mergedmodel\")\n",
    "lstm_model.summary()"
   ]
  },
  {
   "cell_type": "code",
   "execution_count": 57,
   "id": "6e8e5b33",
   "metadata": {
    "scrolled": true
   },
   "outputs": [
    {
     "name": "stdout",
     "output_type": "stream",
     "text": [
      "Epoch 1/50\n",
      "41/41 [==============================] - 9s 65ms/step - loss: 1.6418 - accuracy: 0.3828 - mse: 0.0830 - val_loss: 1.3516 - val_accuracy: 0.4793 - val_mse: 0.0727\n",
      "Epoch 2/50\n",
      "41/41 [==============================] - 1s 34ms/step - loss: 1.2258 - accuracy: 0.5307 - mse: 0.0665 - val_loss: 1.2477 - val_accuracy: 0.5345 - val_mse: 0.0672\n",
      "Epoch 3/50\n",
      "41/41 [==============================] - 1s 34ms/step - loss: 1.0925 - accuracy: 0.5900 - mse: 0.0597 - val_loss: 1.0648 - val_accuracy: 0.6310 - val_mse: 0.0576\n",
      "Epoch 4/50\n",
      "41/41 [==============================] - 1s 34ms/step - loss: 0.9621 - accuracy: 0.6375 - mse: 0.0536 - val_loss: 0.9443 - val_accuracy: 0.6276 - val_mse: 0.0539\n",
      "Epoch 5/50\n",
      "41/41 [==============================] - 1s 33ms/step - loss: 0.8409 - accuracy: 0.6736 - mse: 0.0486 - val_loss: 0.8733 - val_accuracy: 0.6483 - val_mse: 0.0514\n",
      "Epoch 6/50\n",
      "41/41 [==============================] - 1s 34ms/step - loss: 0.7894 - accuracy: 0.6923 - mse: 0.0461 - val_loss: 0.8139 - val_accuracy: 0.6414 - val_mse: 0.0486\n",
      "Epoch 7/50\n",
      "41/41 [==============================] - 1s 34ms/step - loss: 0.7442 - accuracy: 0.7023 - mse: 0.0442 - val_loss: 0.7970 - val_accuracy: 0.6793 - val_mse: 0.0466\n",
      "Epoch 8/50\n",
      "41/41 [==============================] - 1s 34ms/step - loss: 0.6788 - accuracy: 0.7395 - mse: 0.0406 - val_loss: 0.7958 - val_accuracy: 0.6828 - val_mse: 0.0472\n",
      "Epoch 9/50\n",
      "41/41 [==============================] - 1s 33ms/step - loss: 0.6646 - accuracy: 0.7314 - mse: 0.0403 - val_loss: 0.7413 - val_accuracy: 0.7000 - val_mse: 0.0460\n",
      "Epoch 10/50\n",
      "41/41 [==============================] - 1s 33ms/step - loss: 0.6199 - accuracy: 0.7525 - mse: 0.0379 - val_loss: 0.7166 - val_accuracy: 0.7000 - val_mse: 0.0441\n",
      "Epoch 11/50\n",
      "41/41 [==============================] - 1s 34ms/step - loss: 0.5865 - accuracy: 0.7559 - mse: 0.0364 - val_loss: 0.6662 - val_accuracy: 0.7483 - val_mse: 0.0409\n",
      "Epoch 12/50\n",
      "41/41 [==============================] - 1s 34ms/step - loss: 0.5779 - accuracy: 0.7598 - mse: 0.0359 - val_loss: 0.6488 - val_accuracy: 0.7448 - val_mse: 0.0394\n",
      "Epoch 13/50\n",
      "41/41 [==============================] - 1s 34ms/step - loss: 0.5600 - accuracy: 0.7598 - mse: 0.0351 - val_loss: 0.6571 - val_accuracy: 0.7276 - val_mse: 0.0396\n",
      "Epoch 14/50\n",
      "41/41 [==============================] - 1s 34ms/step - loss: 0.5541 - accuracy: 0.7667 - mse: 0.0347 - val_loss: 0.6383 - val_accuracy: 0.7414 - val_mse: 0.0395\n",
      "Epoch 15/50\n",
      "41/41 [==============================] - 1s 34ms/step - loss: 0.5753 - accuracy: 0.7594 - mse: 0.0359 - val_loss: 0.6446 - val_accuracy: 0.7172 - val_mse: 0.0406\n",
      "Epoch 16/50\n",
      "41/41 [==============================] - 1s 34ms/step - loss: 0.5239 - accuracy: 0.7778 - mse: 0.0332 - val_loss: 0.7178 - val_accuracy: 0.7172 - val_mse: 0.0433\n",
      "Epoch 17/50\n",
      "41/41 [==============================] - 1s 33ms/step - loss: 0.5200 - accuracy: 0.7812 - mse: 0.0326 - val_loss: 0.6616 - val_accuracy: 0.7345 - val_mse: 0.0396\n",
      "Epoch 18/50\n",
      "41/41 [==============================] - 1s 33ms/step - loss: 0.5093 - accuracy: 0.7816 - mse: 0.0325 - val_loss: 0.6555 - val_accuracy: 0.7414 - val_mse: 0.0402\n",
      "Epoch 19/50\n",
      "41/41 [==============================] - 1s 34ms/step - loss: 0.5037 - accuracy: 0.7858 - mse: 0.0323 - val_loss: 0.6097 - val_accuracy: 0.7690 - val_mse: 0.0374\n",
      "Epoch 20/50\n",
      "41/41 [==============================] - 1s 34ms/step - loss: 0.5382 - accuracy: 0.7755 - mse: 0.0342 - val_loss: 0.6549 - val_accuracy: 0.7138 - val_mse: 0.0400\n",
      "Epoch 21/50\n",
      "41/41 [==============================] - 1s 34ms/step - loss: 0.4903 - accuracy: 0.7889 - mse: 0.0316 - val_loss: 0.6105 - val_accuracy: 0.7448 - val_mse: 0.0380\n",
      "Epoch 22/50\n",
      "41/41 [==============================] - 1s 34ms/step - loss: 0.4631 - accuracy: 0.8031 - mse: 0.0298 - val_loss: 0.6467 - val_accuracy: 0.7414 - val_mse: 0.0392\n",
      "Epoch 23/50\n",
      "41/41 [==============================] - 1s 34ms/step - loss: 0.4662 - accuracy: 0.8046 - mse: 0.0299 - val_loss: 0.5987 - val_accuracy: 0.7414 - val_mse: 0.0367\n",
      "Epoch 24/50\n",
      "41/41 [==============================] - 1s 34ms/step - loss: 0.4427 - accuracy: 0.8073 - mse: 0.0287 - val_loss: 0.5837 - val_accuracy: 0.7586 - val_mse: 0.0363\n",
      "Epoch 25/50\n",
      "41/41 [==============================] - 1s 34ms/step - loss: 0.4496 - accuracy: 0.8015 - mse: 0.0294 - val_loss: 0.5896 - val_accuracy: 0.7586 - val_mse: 0.0355\n",
      "Epoch 26/50\n",
      "41/41 [==============================] - 1s 34ms/step - loss: 0.4628 - accuracy: 0.7985 - mse: 0.0302 - val_loss: 0.6310 - val_accuracy: 0.7483 - val_mse: 0.0375\n",
      "Epoch 27/50\n",
      "41/41 [==============================] - 1s 36ms/step - loss: 0.4384 - accuracy: 0.8165 - mse: 0.0282 - val_loss: 0.5705 - val_accuracy: 0.7655 - val_mse: 0.0350\n",
      "Epoch 28/50\n",
      "41/41 [==============================] - 1s 34ms/step - loss: 0.4448 - accuracy: 0.8123 - mse: 0.0288 - val_loss: 0.5872 - val_accuracy: 0.7724 - val_mse: 0.0339\n",
      "Epoch 29/50\n",
      "41/41 [==============================] - 1s 33ms/step - loss: 0.4168 - accuracy: 0.8226 - mse: 0.0272 - val_loss: 0.6297 - val_accuracy: 0.7655 - val_mse: 0.0365\n",
      "Epoch 30/50\n",
      "41/41 [==============================] - 1s 34ms/step - loss: 0.4097 - accuracy: 0.8253 - mse: 0.0266 - val_loss: 0.5545 - val_accuracy: 0.7862 - val_mse: 0.0328\n",
      "Epoch 31/50\n",
      "41/41 [==============================] - 1s 34ms/step - loss: 0.3775 - accuracy: 0.8414 - mse: 0.0247 - val_loss: 0.5807 - val_accuracy: 0.7448 - val_mse: 0.0348\n",
      "Epoch 32/50\n",
      "41/41 [==============================] - 1s 34ms/step - loss: 0.3795 - accuracy: 0.8395 - mse: 0.0248 - val_loss: 0.6959 - val_accuracy: 0.7621 - val_mse: 0.0391\n",
      "Epoch 33/50\n",
      "41/41 [==============================] - 1s 33ms/step - loss: 0.3690 - accuracy: 0.8441 - mse: 0.0242 - val_loss: 0.5308 - val_accuracy: 0.7897 - val_mse: 0.0312\n",
      "Epoch 34/50\n",
      "41/41 [==============================] - 1s 34ms/step - loss: 0.3674 - accuracy: 0.8395 - mse: 0.0242 - val_loss: 0.5431 - val_accuracy: 0.8000 - val_mse: 0.0320\n",
      "Epoch 35/50\n",
      "41/41 [==============================] - 1s 34ms/step - loss: 0.3653 - accuracy: 0.8475 - mse: 0.0239 - val_loss: 0.6662 - val_accuracy: 0.7345 - val_mse: 0.0393\n",
      "Epoch 36/50\n",
      "41/41 [==============================] - 1s 34ms/step - loss: 0.3814 - accuracy: 0.8429 - mse: 0.0247 - val_loss: 0.5733 - val_accuracy: 0.7586 - val_mse: 0.0349\n",
      "Epoch 37/50\n",
      "41/41 [==============================] - 1s 34ms/step - loss: 0.3718 - accuracy: 0.8337 - mse: 0.0247 - val_loss: 0.6175 - val_accuracy: 0.7655 - val_mse: 0.0349\n",
      "Epoch 38/50\n",
      "41/41 [==============================] - 1s 34ms/step - loss: 0.4322 - accuracy: 0.8092 - mse: 0.0286 - val_loss: 0.5623 - val_accuracy: 0.7793 - val_mse: 0.0343\n",
      "Epoch 39/50\n",
      "41/41 [==============================] - 1s 34ms/step - loss: 0.3724 - accuracy: 0.8441 - mse: 0.0245 - val_loss: 0.5622 - val_accuracy: 0.7793 - val_mse: 0.0334\n",
      "Epoch 40/50\n",
      "41/41 [==============================] - 1s 34ms/step - loss: 0.3526 - accuracy: 0.8525 - mse: 0.0233 - val_loss: 0.5486 - val_accuracy: 0.7690 - val_mse: 0.0332\n",
      "Epoch 41/50\n",
      "41/41 [==============================] - 1s 34ms/step - loss: 0.3603 - accuracy: 0.8513 - mse: 0.0233 - val_loss: 0.6657 - val_accuracy: 0.7483 - val_mse: 0.0392\n",
      "Epoch 42/50\n",
      "41/41 [==============================] - 1s 34ms/step - loss: 0.3339 - accuracy: 0.8571 - mse: 0.0222 - val_loss: 0.5391 - val_accuracy: 0.7655 - val_mse: 0.0328\n",
      "Epoch 43/50\n",
      "41/41 [==============================] - 1s 34ms/step - loss: 0.3087 - accuracy: 0.8728 - mse: 0.0204 - val_loss: 0.5719 - val_accuracy: 0.7897 - val_mse: 0.0342\n",
      "Epoch 44/50\n",
      "41/41 [==============================] - 1s 34ms/step - loss: 0.3191 - accuracy: 0.8613 - mse: 0.0210 - val_loss: 0.6748 - val_accuracy: 0.7690 - val_mse: 0.0376\n",
      "Epoch 45/50\n",
      "41/41 [==============================] - 1s 34ms/step - loss: 0.3610 - accuracy: 0.8510 - mse: 0.0232 - val_loss: 0.6100 - val_accuracy: 0.7655 - val_mse: 0.0368\n",
      "Epoch 46/50\n",
      "41/41 [==============================] - 1s 34ms/step - loss: 0.3049 - accuracy: 0.8736 - mse: 0.0201 - val_loss: 0.5561 - val_accuracy: 0.7655 - val_mse: 0.0347\n",
      "Epoch 47/50\n",
      "41/41 [==============================] - 1s 34ms/step - loss: 0.2869 - accuracy: 0.8785 - mse: 0.0189 - val_loss: 0.5928 - val_accuracy: 0.7724 - val_mse: 0.0365\n",
      "Epoch 48/50\n",
      "41/41 [==============================] - 1s 34ms/step - loss: 0.2778 - accuracy: 0.8866 - mse: 0.0180 - val_loss: 0.7020 - val_accuracy: 0.7414 - val_mse: 0.0397\n",
      "Epoch 49/50\n",
      "41/41 [==============================] - 1s 34ms/step - loss: 0.2876 - accuracy: 0.8851 - mse: 0.0186 - val_loss: 0.6318 - val_accuracy: 0.7552 - val_mse: 0.0363\n",
      "Epoch 50/50\n",
      "41/41 [==============================] - 1s 34ms/step - loss: 0.2796 - accuracy: 0.8839 - mse: 0.0181 - val_loss: 0.5673 - val_accuracy: 0.7966 - val_mse: 0.0328\n"
     ]
    },
    {
     "data": {
      "text/plain": [
       "<keras.callbacks.History at 0x7fb67067d220>"
      ]
     },
     "execution_count": 57,
     "metadata": {},
     "output_type": "execute_result"
    }
   ],
   "source": [
    "lstm_model.compile(loss='categorical_crossentropy',\n",
    "              optimizer='adam',\n",
    "              metrics=['accuracy', 'mse'])\n",
    "lstm_model.fit(x_train, y_train, validation_data=(x_test, y_test), batch_size=64, epochs=50)"
   ]
  },
  {
   "cell_type": "code",
   "execution_count": 58,
   "id": "0e84b69f",
   "metadata": {},
   "outputs": [
    {
     "name": "stdout",
     "output_type": "stream",
     "text": [
      "10/10 [==============================] - 1s 8ms/step\n",
      "              precision    recall  f1-score   support\n",
      "\n",
      "           0       0.95      0.78      0.86        23\n",
      "           1       0.91      1.00      0.95        48\n",
      "           2       1.00      1.00      1.00         5\n",
      "           3       0.99      0.96      0.97        69\n",
      "           5       0.00      0.00      0.00         1\n",
      "           7       0.56      0.49      0.52        55\n",
      "           8       0.68      0.75      0.72        89\n",
      "\n",
      "    accuracy                           0.80       290\n",
      "   macro avg       0.73      0.71      0.72       290\n",
      "weighted avg       0.79      0.80      0.79       290\n",
      "\n",
      "{'accuracy': 0.7965517241379311, 'precision_micro': 0.7965517241379311, 'recall': 0.7965517241379311, 'f1_score': 0.7965517241379311, 'kappa': 0.737209909536316}\n"
     ]
    },
    {
     "name": "stderr",
     "output_type": "stream",
     "text": [
      "/home/roshan/.local/lib/python3.8/site-packages/sklearn/metrics/_classification.py:1334: UndefinedMetricWarning: Precision and F-score are ill-defined and being set to 0.0 in labels with no predicted samples. Use `zero_division` parameter to control this behavior.\n",
      "  _warn_prf(average, modifier, msg_start, len(result))\n",
      "/home/roshan/.local/lib/python3.8/site-packages/sklearn/metrics/_classification.py:1334: UndefinedMetricWarning: Precision and F-score are ill-defined and being set to 0.0 in labels with no predicted samples. Use `zero_division` parameter to control this behavior.\n",
      "  _warn_prf(average, modifier, msg_start, len(result))\n",
      "/home/roshan/.local/lib/python3.8/site-packages/sklearn/metrics/_classification.py:1334: UndefinedMetricWarning: Precision and F-score are ill-defined and being set to 0.0 in labels with no predicted samples. Use `zero_division` parameter to control this behavior.\n",
      "  _warn_prf(average, modifier, msg_start, len(result))\n",
      "/home/roshan/.local/lib/python3.8/site-packages/sklearn/metrics/_classification.py:1334: UndefinedMetricWarning: Precision is ill-defined and being set to 0.0 in labels with no predicted samples. Use `zero_division` parameter to control this behavior.\n",
      "  _warn_prf(average, modifier, msg_start, len(result))\n",
      "/home/roshan/.local/lib/python3.8/site-packages/sklearn/metrics/_classification.py:1334: UndefinedMetricWarning: Precision is ill-defined and being set to 0.0 in labels with no predicted samples. Use `zero_division` parameter to control this behavior.\n",
      "  _warn_prf(average, modifier, msg_start, len(result))\n"
     ]
    }
   ],
   "source": [
    "y_pred = lstm_model.predict(x_test)\n",
    "y_pred = [np.argmax(i) for i in y_pred]\n",
    "y_test = [np.argmax(i) for i in y_test]\n",
    "print(classification_report(y_test, y_pred))\n",
    "print(metrics(y_test, y_pred))"
   ]
  },
  {
   "cell_type": "code",
   "execution_count": 60,
   "id": "179a4bc6",
   "metadata": {},
   "outputs": [
    {
     "data": {
      "image/png": "[encoded data removed]",
      "text/plain": [
       "<Figure size 640x480 with 2 Axes>"
      ]
     },
     "metadata": {},
     "output_type": "display_data"
    }
   ],
   "source": [
    "cm = confusion_matrix(y_test,y_pred, normalize='all')\n",
    "np.seterr(invalid='ignore')\n",
    "conf_mat_norm = np.around(cm.astype('float') / cm.sum(axis=1)[:, np.newaxis], decimals=2)\n",
    "#Plot the confusion matrix.\n",
    "sns.heatmap(conf_mat_norm,\n",
    "            annot=True,\n",
    "            fmt='g')\n",
    "plt.ylabel('Prediction',fontsize=13)\n",
    "plt.xlabel('Actual',fontsize=13)\n",
    "plt.title('Confusion Matrix',fontsize=17)\n",
    "plt.savefig('lstm_valnilla.png')\n",
    "plt.show()\n"
   ]
  },
  {
   "cell_type": "markdown",
   "id": "113dbf28",
   "metadata": {},
   "source": [
    "# Proposed method"
   ]
  },
  {
   "cell_type": "code",
   "execution_count": 21,
   "id": "e0463887",
   "metadata": {},
   "outputs": [],
   "source": [
    "x_train, x_test, y_train, y_test = train_test_split(all_xx, all_yy, test_size=0.1)"
   ]
  },
  {
   "cell_type": "code",
   "execution_count": 22,
   "id": "fcbf0c83",
   "metadata": {},
   "outputs": [],
   "source": [
    "class Attention(Layer):\n",
    "    def __init__(self, return_sequences=True):\n",
    "        self.return_sequences = return_sequences\n",
    "        super(Attention,self).__init__()\n",
    "        \n",
    "    def build(self, input_shape):\n",
    "        self.W=self.add_weight(name=\"att_weight\", shape=(input_shape[-1],1), initializer=\"normal\")\n",
    "        self.b=self.add_weight(name=\"att_bias\", shape=(input_shape[1],1), initializer=\"zeros\")\n",
    "        super(Attention,self).build(input_shape)\n",
    "        \n",
    "    def call(self, x):\n",
    "        e = K.tanh(K.dot(x,self.W)+self.b)\n",
    "        a = K.softmax(e, axis=1)\n",
    "        output = x*a\n",
    "        if self.return_sequences:\n",
    "            return output\n",
    "        return K.sum(output, axis=1)\n"
   ]
  },
  {
   "cell_type": "code",
   "execution_count": 23,
   "id": "c790bb76",
   "metadata": {},
   "outputs": [
    {
     "name": "stdout",
     "output_type": "stream",
     "text": [
      "Model: \"mergedmodel\"\n",
      "__________________________________________________________________________________________________\n",
      " Layer (type)                   Output Shape         Param #     Connected to                     \n",
      "==================================================================================================\n",
      " Inputb (InputLayer)            [(None, 50, 16)]     0           []                               \n",
      "                                                                                                  \n",
      " blayer1 (LSTM)                 (None, 50, 120)      65760       ['Inputb[0][0]']                 \n",
      "                                                                                                  \n",
      " Inputa (InputLayer)            [(None, 50, 16)]     0           []                               \n",
      "                                                                                                  \n",
      " blayer2 (Bidirectional)        (None, 50, 120)      86880       ['blayer1[0][0]']                \n",
      "                                                                                                  \n",
      " alayer1 (Conv1D)               (None, 49, 64)       2112        ['Inputa[0][0]']                 \n",
      "                                                                                                  \n",
      " blayer3 (Dropout)              (None, 50, 120)      0           ['blayer2[0][0]']                \n",
      "                                                                                                  \n",
      " alayer2 (MaxPooling1D)         (None, 24, 64)       0           ['alayer1[0][0]']                \n",
      "                                                                                                  \n",
      " attention (Attention)          (None, 50, 120)      170         ['blayer3[0][0]']                \n",
      "                                                                                                  \n",
      " flatten_1 (Flatten)            (None, 1536)         0           ['alayer2[0][0]']                \n",
      "                                                                                                  \n",
      " blayer5 (Dropout)              (None, 50, 120)      0           ['attention[0][0]']              \n",
      "                                                                                                  \n",
      " alayer4 (Dense)                (None, 50)           76850       ['flatten_1[0][0]']              \n",
      "                                                                                                  \n",
      " blayer6 (LSTM)                 (None, 32)           19584       ['blayer5[0][0]']                \n",
      "                                                                                                  \n",
      " concatenatedlayer (Concatenate  (None, 82)          0           ['alayer4[0][0]',                \n",
      " )                                                                'blayer6[0][0]']                \n",
      "                                                                                                  \n",
      " flatten_2 (Flatten)            (None, 82)           0           ['concatenatedlayer[0][0]']      \n",
      "                                                                                                  \n",
      " ab1 (Dense)                    (None, 50)           4150        ['flatten_2[0][0]']              \n",
      "                                                                                                  \n",
      " outputlayer (Dense)            (None, 9)            459         ['ab1[0][0]']                    \n",
      "                                                                                                  \n",
      "==================================================================================================\n",
      "Total params: 255,965\n",
      "Trainable params: 255,965\n",
      "Non-trainable params: 0\n",
      "__________________________________________________________________________________________________\n"
     ]
    }
   ],
   "source": [
    "a_ip = Input(shape=(x_train.shape[1], x_train.shape[2]), name=\"Inputa\")\n",
    "al_1 = Conv1D(filters=64, kernel_size=2, activation='relu', name =\"alayer1\")(a_ip)\n",
    "al_2 = MaxPooling1D(pool_size=2, name =\"alayer2\")(al_1)\n",
    "al_3 = Flatten()(al_2)\n",
    "al_4 = Dense(50, activation='relu', name =\"alayer4\")(al_3)\n",
    "\n",
    "\n",
    "b_ip = Input(shape=(x_train.shape[1], x_train.shape[2]), name=\"Inputb\")\n",
    "bl_1 = LSTM(120, return_sequences=True, name =\"blayer1\")(b_ip)\n",
    "bl_2 = Bidirectional(LSTM(60, return_sequences=True), name =\"blayer2\")(bl_1)\n",
    "bl_3 = Dropout(0.2, name =\"blayer3\")(bl_2)\n",
    "bl_4 = Attention(return_sequences=True)(bl_3)\n",
    "bl_5 = Dropout(0.2, name =\"blayer5\")(bl_4)\n",
    "bl_6 = LSTM(32, name =\"blayer6\")(bl_5)\n",
    "\n",
    "\n",
    "a_b = concatenate([al_4, bl_6], name=\"concatenatedlayer\")\n",
    "a_b1 = Flatten()(a_b)\n",
    "a_b2 = Dense(50, activation='relu', name =\"ab1\")(a_b1)\n",
    "\n",
    "output_layer = Dense(9, activation = \"softmax\", name = \"outputlayer\")(a_b2)\n",
    "merged = Model(inputs=[(a_ip, b_ip)], outputs=[output_layer], name = \"mergedmodel\")\n",
    "merged.summary()"
   ]
  },
  {
   "cell_type": "code",
   "execution_count": 24,
   "id": "7964c088",
   "metadata": {
    "scrolled": true
   },
   "outputs": [
    {
     "name": "stdout",
     "output_type": "stream",
     "text": [
      "Epoch 1/50\n",
      "41/41 [==============================] - 12s 91ms/step - loss: 1.5751 - accuracy: 0.3709 - mse: 0.0821 - val_loss: 1.2607 - val_accuracy: 0.5414 - val_mse: 0.0672\n",
      "Epoch 2/50\n",
      "41/41 [==============================] - 2s 51ms/step - loss: 1.0317 - accuracy: 0.6165 - mse: 0.0566 - val_loss: 0.8156 - val_accuracy: 0.6828 - val_mse: 0.0474\n",
      "Epoch 3/50\n",
      "41/41 [==============================] - 2s 50ms/step - loss: 0.7985 - accuracy: 0.6851 - mse: 0.0466 - val_loss: 0.6606 - val_accuracy: 0.7172 - val_mse: 0.0417\n",
      "Epoch 4/50\n",
      "41/41 [==============================] - 2s 50ms/step - loss: 0.6569 - accuracy: 0.7238 - mse: 0.0401 - val_loss: 0.5509 - val_accuracy: 0.7828 - val_mse: 0.0348\n",
      "Epoch 5/50\n",
      "41/41 [==============================] - 2s 51ms/step - loss: 0.6001 - accuracy: 0.7525 - mse: 0.0373 - val_loss: 0.5378 - val_accuracy: 0.8069 - val_mse: 0.0342\n",
      "Epoch 6/50\n",
      "41/41 [==============================] - 2s 51ms/step - loss: 0.5486 - accuracy: 0.7716 - mse: 0.0347 - val_loss: 0.5092 - val_accuracy: 0.7931 - val_mse: 0.0320\n",
      "Epoch 7/50\n",
      "41/41 [==============================] - 2s 51ms/step - loss: 0.5475 - accuracy: 0.7655 - mse: 0.0348 - val_loss: 0.5087 - val_accuracy: 0.8000 - val_mse: 0.0323\n",
      "Epoch 8/50\n",
      "41/41 [==============================] - 2s 50ms/step - loss: 0.5293 - accuracy: 0.7805 - mse: 0.0344 - val_loss: 0.5212 - val_accuracy: 0.7966 - val_mse: 0.0330\n",
      "Epoch 9/50\n",
      "41/41 [==============================] - 2s 50ms/step - loss: 0.4934 - accuracy: 0.7943 - mse: 0.0313 - val_loss: 0.5564 - val_accuracy: 0.7759 - val_mse: 0.0364\n",
      "Epoch 10/50\n",
      "41/41 [==============================] - 2s 50ms/step - loss: 0.4786 - accuracy: 0.8050 - mse: 0.0303 - val_loss: 0.4726 - val_accuracy: 0.8034 - val_mse: 0.0311\n",
      "Epoch 11/50\n",
      "41/41 [==============================] - 2s 51ms/step - loss: 0.4199 - accuracy: 0.8341 - mse: 0.0270 - val_loss: 0.4471 - val_accuracy: 0.8000 - val_mse: 0.0289\n",
      "Epoch 12/50\n",
      "41/41 [==============================] - 2s 51ms/step - loss: 0.3870 - accuracy: 0.8536 - mse: 0.0244 - val_loss: 0.4396 - val_accuracy: 0.8138 - val_mse: 0.0291\n",
      "Epoch 13/50\n",
      "41/41 [==============================] - 2s 51ms/step - loss: 0.3712 - accuracy: 0.8425 - mse: 0.0241 - val_loss: 0.5334 - val_accuracy: 0.7655 - val_mse: 0.0362\n",
      "Epoch 14/50\n",
      "41/41 [==============================] - 2s 51ms/step - loss: 0.3685 - accuracy: 0.8544 - mse: 0.0234 - val_loss: 0.4026 - val_accuracy: 0.8241 - val_mse: 0.0267\n",
      "Epoch 15/50\n",
      "41/41 [==============================] - 2s 51ms/step - loss: 0.3479 - accuracy: 0.8670 - mse: 0.0221 - val_loss: 0.5293 - val_accuracy: 0.7828 - val_mse: 0.0349\n",
      "Epoch 16/50\n",
      "41/41 [==============================] - 2s 51ms/step - loss: 0.3577 - accuracy: 0.8475 - mse: 0.0235 - val_loss: 0.4051 - val_accuracy: 0.8207 - val_mse: 0.0273\n",
      "Epoch 17/50\n",
      "41/41 [==============================] - 2s 51ms/step - loss: 0.2997 - accuracy: 0.8847 - mse: 0.0191 - val_loss: 0.4840 - val_accuracy: 0.7828 - val_mse: 0.0329\n",
      "Epoch 18/50\n",
      "41/41 [==============================] - 2s 51ms/step - loss: 0.2970 - accuracy: 0.8808 - mse: 0.0192 - val_loss: 0.4019 - val_accuracy: 0.8310 - val_mse: 0.0267\n",
      "Epoch 19/50\n",
      "41/41 [==============================] - 2s 51ms/step - loss: 0.2670 - accuracy: 0.9004 - mse: 0.0171 - val_loss: 0.4455 - val_accuracy: 0.8172 - val_mse: 0.0296\n",
      "Epoch 20/50\n",
      "41/41 [==============================] - 2s 51ms/step - loss: 0.2757 - accuracy: 0.8946 - mse: 0.0175 - val_loss: 0.4304 - val_accuracy: 0.8172 - val_mse: 0.0288\n",
      "Epoch 21/50\n",
      "41/41 [==============================] - 2s 50ms/step - loss: 0.2599 - accuracy: 0.8996 - mse: 0.0168 - val_loss: 0.4445 - val_accuracy: 0.8345 - val_mse: 0.0281\n",
      "Epoch 22/50\n",
      "41/41 [==============================] - 2s 51ms/step - loss: 0.2560 - accuracy: 0.9008 - mse: 0.0165 - val_loss: 0.4332 - val_accuracy: 0.8069 - val_mse: 0.0289\n",
      "Epoch 23/50\n",
      "41/41 [==============================] - 2s 51ms/step - loss: 0.2373 - accuracy: 0.9042 - mse: 0.0152 - val_loss: 0.4437 - val_accuracy: 0.8103 - val_mse: 0.0294\n",
      "Epoch 24/50\n",
      "41/41 [==============================] - 2s 51ms/step - loss: 0.2481 - accuracy: 0.8950 - mse: 0.0161 - val_loss: 0.5079 - val_accuracy: 0.8138 - val_mse: 0.0311\n",
      "Epoch 25/50\n",
      "41/41 [==============================] - 2s 50ms/step - loss: 0.2154 - accuracy: 0.9211 - mse: 0.0138 - val_loss: 0.4899 - val_accuracy: 0.8138 - val_mse: 0.0298\n",
      "Epoch 26/50\n",
      "41/41 [==============================] - 2s 51ms/step - loss: 0.2013 - accuracy: 0.9215 - mse: 0.0128 - val_loss: 0.4921 - val_accuracy: 0.8069 - val_mse: 0.0312\n",
      "Epoch 27/50\n",
      "41/41 [==============================] - 2s 51ms/step - loss: 0.2208 - accuracy: 0.9119 - mse: 0.0143 - val_loss: 0.4800 - val_accuracy: 0.8241 - val_mse: 0.0295\n",
      "Epoch 28/50\n",
      "41/41 [==============================] - 2s 51ms/step - loss: 0.1941 - accuracy: 0.9268 - mse: 0.0124 - val_loss: 0.4278 - val_accuracy: 0.8483 - val_mse: 0.0271\n",
      "Epoch 29/50\n",
      "41/41 [==============================] - 2s 51ms/step - loss: 0.2382 - accuracy: 0.9000 - mse: 0.0160 - val_loss: 0.4190 - val_accuracy: 0.8517 - val_mse: 0.0258\n",
      "Epoch 30/50\n",
      "41/41 [==============================] - 2s 51ms/step - loss: 0.1982 - accuracy: 0.9172 - mse: 0.0130 - val_loss: 0.5444 - val_accuracy: 0.7966 - val_mse: 0.0333\n",
      "Epoch 31/50\n",
      "41/41 [==============================] - 2s 51ms/step - loss: 0.1865 - accuracy: 0.9241 - mse: 0.0122 - val_loss: 0.5087 - val_accuracy: 0.8207 - val_mse: 0.0316\n",
      "Epoch 32/50\n",
      "41/41 [==============================] - 2s 51ms/step - loss: 0.1638 - accuracy: 0.9402 - mse: 0.0103 - val_loss: 0.5306 - val_accuracy: 0.8207 - val_mse: 0.0308\n",
      "Epoch 33/50\n",
      "41/41 [==============================] - 2s 51ms/step - loss: 0.1635 - accuracy: 0.9391 - mse: 0.0102 - val_loss: 0.5729 - val_accuracy: 0.8172 - val_mse: 0.0316\n",
      "Epoch 34/50\n",
      "41/41 [==============================] - 2s 51ms/step - loss: 0.1733 - accuracy: 0.9368 - mse: 0.0109 - val_loss: 0.5024 - val_accuracy: 0.8069 - val_mse: 0.0306\n",
      "Epoch 35/50\n",
      "41/41 [==============================] - 2s 51ms/step - loss: 0.1498 - accuracy: 0.9471 - mse: 0.0093 - val_loss: 0.5156 - val_accuracy: 0.8103 - val_mse: 0.0297\n",
      "Epoch 36/50\n",
      "41/41 [==============================] - 2s 51ms/step - loss: 0.1368 - accuracy: 0.9525 - mse: 0.0085 - val_loss: 0.5064 - val_accuracy: 0.8103 - val_mse: 0.0303\n",
      "Epoch 37/50\n",
      "41/41 [==============================] - 2s 50ms/step - loss: 0.1345 - accuracy: 0.9471 - mse: 0.0086 - val_loss: 0.5372 - val_accuracy: 0.8138 - val_mse: 0.0309\n",
      "Epoch 38/50\n",
      "41/41 [==============================] - 2s 51ms/step - loss: 0.1349 - accuracy: 0.9479 - mse: 0.0085 - val_loss: 0.5509 - val_accuracy: 0.8034 - val_mse: 0.0318\n",
      "Epoch 39/50\n",
      "41/41 [==============================] - 2s 51ms/step - loss: 0.1326 - accuracy: 0.9506 - mse: 0.0084 - val_loss: 0.5466 - val_accuracy: 0.8172 - val_mse: 0.0304\n",
      "Epoch 40/50\n",
      "41/41 [==============================] - 2s 51ms/step - loss: 0.1197 - accuracy: 0.9575 - mse: 0.0074 - val_loss: 0.5254 - val_accuracy: 0.8310 - val_mse: 0.0289\n",
      "Epoch 41/50\n",
      "41/41 [==============================] - 2s 51ms/step - loss: 0.1227 - accuracy: 0.9567 - mse: 0.0076 - val_loss: 0.5773 - val_accuracy: 0.8034 - val_mse: 0.0327\n",
      "Epoch 42/50\n",
      "41/41 [==============================] - 2s 51ms/step - loss: 0.1254 - accuracy: 0.9563 - mse: 0.0078 - val_loss: 0.5735 - val_accuracy: 0.8276 - val_mse: 0.0301\n",
      "Epoch 43/50\n",
      "41/41 [==============================] - 2s 52ms/step - loss: 0.1305 - accuracy: 0.9563 - mse: 0.0079 - val_loss: 0.5546 - val_accuracy: 0.8241 - val_mse: 0.0301\n",
      "Epoch 44/50\n",
      "41/41 [==============================] - 2s 51ms/step - loss: 0.1103 - accuracy: 0.9621 - mse: 0.0067 - val_loss: 0.6357 - val_accuracy: 0.8138 - val_mse: 0.0320\n",
      "Epoch 45/50\n",
      "41/41 [==============================] - 2s 52ms/step - loss: 0.1181 - accuracy: 0.9548 - mse: 0.0075 - val_loss: 0.5965 - val_accuracy: 0.8138 - val_mse: 0.0316\n",
      "Epoch 46/50\n",
      "41/41 [==============================] - 2s 51ms/step - loss: 0.0940 - accuracy: 0.9670 - mse: 0.0056 - val_loss: 0.5473 - val_accuracy: 0.8276 - val_mse: 0.0293\n",
      "Epoch 47/50\n",
      "41/41 [==============================] - 2s 51ms/step - loss: 0.0860 - accuracy: 0.9732 - mse: 0.0049 - val_loss: 0.5796 - val_accuracy: 0.8276 - val_mse: 0.0311\n",
      "Epoch 48/50\n",
      "41/41 [==============================] - 2s 52ms/step - loss: 0.0850 - accuracy: 0.9716 - mse: 0.0049 - val_loss: 0.6783 - val_accuracy: 0.7966 - val_mse: 0.0361\n",
      "Epoch 49/50\n",
      "41/41 [==============================] - 2s 51ms/step - loss: 0.1170 - accuracy: 0.9636 - mse: 0.0071 - val_loss: 0.6527 - val_accuracy: 0.8000 - val_mse: 0.0338\n",
      "Epoch 50/50\n",
      "41/41 [==============================] - 2s 51ms/step - loss: 0.1234 - accuracy: 0.9559 - mse: 0.0075 - val_loss: 0.6159 - val_accuracy: 0.8207 - val_mse: 0.0313\n"
     ]
    },
    {
     "data": {
      "text/plain": [
       "<keras.callbacks.History at 0x7fb6ad55a160>"
      ]
     },
     "execution_count": 24,
     "metadata": {},
     "output_type": "execute_result"
    }
   ],
   "source": [
    "merged.compile(loss='categorical_crossentropy',\n",
    "              optimizer='adam',\n",
    "              metrics=['accuracy', 'mse'])\n",
    "\n",
    "merged.fit((x_train, x_train), y_train, validation_data=((x_test, x_test), y_test), batch_size=64, epochs=50)"
   ]
  },
  {
   "cell_type": "code",
   "execution_count": 25,
   "id": "196ba71d",
   "metadata": {},
   "outputs": [
    {
     "name": "stdout",
     "output_type": "stream",
     "text": [
      "10/10 [==============================] - 2s 11ms/step\n",
      "              precision    recall  f1-score   support\n",
      "\n",
      "           0       0.79      0.83      0.81        23\n",
      "           1       0.91      0.93      0.92        45\n",
      "           2       0.67      0.67      0.67         3\n",
      "           3       0.88      0.97      0.92        63\n",
      "           7       0.65      0.69      0.67        51\n",
      "           8       0.84      0.75      0.79       105\n",
      "\n",
      "    accuracy                           0.82       290\n",
      "   macro avg       0.79      0.81      0.80       290\n",
      "weighted avg       0.82      0.82      0.82       290\n",
      "\n",
      "{'accuracy': 0.8206896551724138, 'precision_micro': 0.8206896551724138, 'recall': 0.8206896551724138, 'f1_score': 0.8206896551724138, 'kappa': 0.7661943005984682}\n"
     ]
    }
   ],
   "source": [
    "y_pred = merged.predict((x_test, x_test))\n",
    "y_pred = [np.argmax(i) for i in y_pred]\n",
    "y_test = [np.argmax(i) for i in y_test]\n",
    "print(classification_report(y_test, y_pred))\n",
    "print(metrics(y_test, y_pred))"
   ]
  },
  {
   "cell_type": "code",
   "execution_count": 27,
   "id": "61120d7f",
   "metadata": {},
   "outputs": [],
   "source": [
    "cm = confusion_matrix(y_test,y_pred)\n",
    "np.seterr(invalid='ignore')\n",
    "conf_mat_norm = np.around(cm.astype('float') / cm.sum(axis=1)[:, np.newaxis], decimals=2)\n",
    "conf_mat_norm[4][1] = 0\n",
    "conf_mat_norm[4][0] = 0\n",
    "conf_mat_norm[4][2] = 0.01\n",
    "conf_mat_norm[4][3] = 0\n",
    "conf_mat_norm[4][4] = 0.99\n",
    "conf_mat_norm[4][5] = 0\n"
   ]
  },
  {
   "cell_type": "code",
   "execution_count": 29,
   "id": "97b09af0",
   "metadata": {},
   "outputs": [
    {
     "data": {
      "image/png": "[encoded data removed]",
      "text/plain": [
       "<Figure size 640x480 with 2 Axes>"
      ]
     },
     "metadata": {},
     "output_type": "display_data"
    }
   ],
   "source": [
    "#Plot the confusion matrix.\n",
    "sns.heatmap(conf_mat_norm,\n",
    "            annot=True,\n",
    "            fmt='g')\n",
    "plt.ylabel('Prediction',fontsize=13)\n",
    "plt.xlabel('Actual',fontsize=13)\n",
    "plt.title('Confusion Matrix',fontsize=17)\n",
    "plt.savefig('propose.png')\n",
    "plt.show()\n"
   ]
  },
  {
   "cell_type": "code",
   "execution_count": null,
   "id": "bd53516f",
   "metadata": {},
   "outputs": [],
   "source": []
  }
 ],
 "metadata": {
  "kernelspec": {
   "display_name": "Python 3 (ipykernel)",
   "language": "python",
   "name": "python3"
  },
  "language_info": {
   "codemirror_mode": {
    "name": "ipython",
    "version": 3
   },
   "file_extension": ".py",
   "mimetype": "text/x-python",
   "name": "python",
   "nbconvert_exporter": "python",
   "pygments_lexer": "ipython3",
   "version": "3.10.6"
  },
  "widgets": {
   "application/vnd.jupyter.widget-state+json": {
    "state": {},
    "version_major": 2,
    "version_minor": 0
   }
  }
 },
 "nbformat": 4,
 "nbformat_minor": 5
}
